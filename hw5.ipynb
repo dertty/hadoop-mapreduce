{
 "cells": [
  {
   "cell_type": "code",
   "execution_count": 1,
   "metadata": {
    "collapsed": true
   },
   "outputs": [
    {
     "name": "stdout",
     "output_type": "stream",
     "text": [
      "22/12/08 20:22:30 WARN Utils: Your hostname, user-ubuntu-pc resolves to a loopback address: 127.0.1.1; using 192.168.1.7 instead (on interface wlo1)\n",
      "22/12/08 20:22:30 WARN Utils: Set SPARK_LOCAL_IP if you need to bind to another address\n"
     ]
    },
    {
     "name": "stderr",
     "output_type": "stream",
     "text": [
      "Setting default log level to \"WARN\".\n",
      "To adjust logging level use sc.setLogLevel(newLevel). For SparkR, use setLogLevel(newLevel).\n"
     ]
    },
    {
     "name": "stdout",
     "output_type": "stream",
     "text": [
      "22/12/08 20:22:30 WARN NativeCodeLoader: Unable to load native-hadoop library for your platform... using builtin-java classes where applicable\n"
     ]
    }
   ],
   "source": [
    "# Создаём спарк контекст\n",
    "from pyspark.sql import SparkSession\n",
    "\n",
    "spark = SparkSession.builder\\\n",
    "        .master('local[*]')\\\n",
    "        .appName('HW5')\\\n",
    "        .config('spark.ui.port', '4050')\\\n",
    "        .getOrCreate()\n",
    "\n",
    "sc = spark.sparkContext"
   ]
  },
  {
   "cell_type": "code",
   "execution_count": 65,
   "metadata": {},
   "outputs": [],
   "source": [
    "train = spark.read.csv('jigsaw-toxic-comment-classification-challenge/train.csv', sep=',', quote='\\\"', escape='\\\"', multiLine=True, header=True, inferSchema=True)\n",
    "test = spark.read.csv('jigsaw-toxic-comment-classification-challenge/test.csv', sep=',', quote='\\\"', escape='\\\"', multiLine=True, header=True, inferSchema=True)\n",
    "test_labels = spark.read.csv('jigsaw-toxic-comment-classification-challenge/test_labels.csv', sep=',', quote='\\\"', escape='\\\"', multiLine=True, header=True, inferSchema=True)\n",
    "test = test.join(test_labels, 'id')"
   ]
  },
  {
   "cell_type": "code",
   "execution_count": null,
   "metadata": {
    "pycharm": {
     "is_executing": true
    }
   },
   "outputs": [
    {
     "name": "stderr",
     "output_type": "stream",
     "text": [
      "[Stage 137:>                                                        (0 + 1) / 1]\r"
     ]
    }
   ],
   "source": [
    "from pyspark.ml.feature import HashingTF, IDF, Tokenizer\n",
    "from pyspark.ml.pipeline import Pipeline\n",
    "from pyspark.ml.classification import LogisticRegression\n",
    "from pyspark.ml.evaluation import BinaryClassificationEvaluator, MultilabelClassificationEvaluator\n",
    "\n",
    "scores = []\n",
    "tokenizer = Tokenizer(inputCol=\"comment_text\", outputCol=\"words\")\n",
    "hashingTF = HashingTF(inputCol=tokenizer.getOutputCol(), outputCol=\"tf\", numFeatures=20)\n",
    "idf = IDF(inputCol=hashingTF.getOutputCol(), outputCol=\"features\")\n",
    "preprocessing = [tokenizer, hashingTF, idf,]\n",
    "\n",
    "pipe = Pipeline(stages=[tokenizer, hashingTF, idf,])\n",
    "\n",
    "target_cols = ['toxic', 'severe_toxic', 'obscene', 'threat', 'insult', 'identity_hate',]\n",
    "for target_name in target_cols:\n",
    "\n",
    "    model = LogisticRegression(featuresCol=idf.getOutputCol(), labelCol=target_name, maxIter=10, regParam=0.3, elasticNetParam=0.8)\n",
    "    metrics = BinaryClassificationEvaluator(labelCol=model.getLabelCol(), rawPredictionCol=model.getProbabilityCol())\n",
    "\n",
    "    pipe = Pipeline(stages=preprocessing + [model,])\n",
    "    pipe = pipe.fit(train)\n",
    "    scores.append(metrics.evaluate(pipe.transform(test)))\n",
    "\n",
    "sum(scores) / len(target_cols)"
   ]
  },
  {
   "cell_type": "code",
   "execution_count": 58,
   "outputs": [
    {
     "name": "stdout",
     "output_type": "stream",
     "text": [
      "+----------------+--------------------+--------------------+--------------------+--------------------+--------------------+--------------------+----------+\n",
      "|              id|        comment_text|               words|                  tf|            features|       rawPrediction|         probability|prediction|\n",
      "+----------------+--------------------+--------------------+--------------------+--------------------+--------------------+--------------------+----------+\n",
      "|00001cee341fdb12|Yo bitch Ja Rule ...|[yo, bitch, ja, r...|(20,[0,1,2,3,6,7,...|(20,[0,1,2,3,6,7,...|[2.24427446829444...|[0.90415551697990...|       0.0|\n",
      "|0000247867823ef7|== From RfC == \\n...|[==, from, rfc, =...|(20,[1,2,4,5,6,8,...|(20,[1,2,4,5,6,8,...|[2.24427446829444...|[0.90415551697990...|       0.0|\n",
      "|00013b17ad220c46|\" \\n\\n == Sources...|[\", , , , ==, sou...|(20,[3,5,6,8,10,1...|(20,[3,5,6,8,10,1...|[2.24427446829444...|[0.90415551697990...|       0.0|\n",
      "|00017563c3f7919a|:If you have a lo...|[:if, you, have, ...|(20,[0,1,2,3,4,5,...|(20,[0,1,2,3,4,5,...|[2.24427446829444...|[0.90415551697990...|       0.0|\n",
      "|00017695ad8997eb|I don't anonymous...|[i, don't, anonym...|(20,[1,2,6,11,15,...|(20,[1,2,6,11,15,...|[2.24427446829444...|[0.90415551697990...|       0.0|\n",
      "|0001ea8717f6de06|Thank you for und...|[thank, you, for,...|(20,[3,4,5,7,11,1...|(20,[3,4,5,7,11,1...|[2.24427446829444...|[0.90415551697990...|       0.0|\n",
      "|00024115d4cbde0f|Please do not add...|[please, do, not,...|(20,[3,4,5,6,7,8,...|(20,[3,4,5,6,7,8,...|[2.24427446829444...|[0.90415551697990...|       0.0|\n",
      "|000247e83dcc1211|:Dear god this si...|[:dear, god, this...|(20,[2,9,11,13,14...|(20,[2,9,11,13,14...|[2.24427446829444...|[0.90415551697990...|       0.0|\n",
      "|00025358d4737918|\" \\n Only a fool ...|[\", , , only, a, ...|(20,[0,1,2,3,4,5,...|(20,[0,1,2,3,4,5,...|[2.24427446829444...|[0.90415551697990...|       0.0|\n",
      "|00026d1092fe71cc|== Double Redirec...|[==, double, redi...|(20,[1,2,3,4,5,6,...|(20,[1,2,3,4,5,6,...|[2.24427446829444...|[0.90415551697990...|       0.0|\n",
      "|0002eadc3b301559|I think its crap ...|[i, think, its, c...|(20,[0,1,2,3,5,6,...|(20,[0,1,2,3,5,6,...|[2.24427446829444...|[0.90415551697990...|       0.0|\n",
      "|0002f87b16116a7f|\"::: Somebody wil...|[\":::, somebody, ...|(20,[0,1,2,3,4,6,...|(20,[0,1,2,3,4,6,...|[2.24427446829444...|[0.90415551697990...|       0.0|\n",
      "|0003806b11932181|, 25 February 201...|[,, 25, february,...|(20,[0,1,2,3,4,5,...|(20,[0,1,2,3,4,5,...|[2.24427446829444...|[0.90415551697990...|       0.0|\n",
      "|0003e1cccfd5a40a|\" \\n\\n It says it...|[\", , , , it, say...|(20,[0,1,2,3,5,6,...|(20,[0,1,2,3,5,6,...|[2.24427446829444...|[0.90415551697990...|       0.0|\n",
      "|00059ace3e3e9a53|\" \\n\\n == Before ...|[\", , , , ==, bef...|(20,[0,1,2,3,4,5,...|(20,[0,1,2,3,4,5,...|[2.24427446829444...|[0.90415551697990...|       0.0|\n",
      "|000634272d0d44eb|==Current Positio...|[==current, posit...|(20,[0,2,3,4,6,7,...|(20,[0,2,3,4,6,7,...|[2.24427446829444...|[0.90415551697990...|       0.0|\n",
      "|000663aff0fffc80|this other one fr...|[this, other, one...|(20,[1,4,9,13,15]...|(20,[1,4,9,13,15]...|[2.24427446829444...|[0.90415551697990...|       0.0|\n",
      "|000689dd34e20979|== Reason for ban...|[==, reason, for,...|(20,[2,4,6,7,8,9,...|(20,[2,4,6,7,8,9,...|[2.24427446829444...|[0.90415551697990...|       0.0|\n",
      "|000834769115370c|:: Wallamoose was...|[::, wallamoose, ...|(20,[0,1,2,3,4,5,...|(20,[0,1,2,3,4,5,...|[2.24427446829444...|[0.90415551697990...|       0.0|\n",
      "|000844b52dee5f3f||blocked]] from e...|[|blocked]], from...|(20,[1,5,12,16],[...|(20,[1,5,12,16],[...|[2.24427446829444...|[0.90415551697990...|       0.0|\n",
      "+----------------+--------------------+--------------------+--------------------+--------------------+--------------------+--------------------+----------+\n",
      "only showing top 20 rows\n",
      "\n"
     ]
    }
   ],
   "source": [
    "pipe.transform(test).show()"
   ],
   "metadata": {
    "collapsed": false
   }
  },
  {
   "cell_type": "code",
   "execution_count": null,
   "outputs": [],
   "source": [
    "from pyspark.ml.classification import FMClassifier\n",
    "from pyspark.ml.classification import LinearSVC\n",
    "from pyspark.ml.classification import NaiveBayes\n",
    "from pyspark.ml.classification import LogisticRegression\n",
    "\n",
    "\n",
    "lsvc = LinearSVC(maxIter=10, regParam=0.1)\n",
    "nb = NaiveBayes(smoothing=1.0, modelType=\"multinomial\")\n",
    "fm = FMClassifier(labelCol=\"indexedLabel\", featuresCol=\"scaledFeatures\", stepSize=0.001)\n",
    "lr = LogisticRegression(maxIter=10, regParam=0.3, elasticNetParam=0.8)"
   ],
   "metadata": {
    "collapsed": false
   }
  },
  {
   "cell_type": "code",
   "execution_count": null,
   "outputs": [],
   "source": [
    "from pyspark.ml.classification import LinearSVC\n",
    "\n",
    "# Load training data\n",
    "training = spark.read.format(\"libsvm\").load(\"data/mllib/sample_libsvm_data.txt\")\n",
    "\n",
    "lsvc = LinearSVC(maxIter=10, regParam=0.1)\n",
    "\n",
    "# Fit the model\n",
    "lsvcModel = lsvc.fit(training)\n",
    "\n",
    "# Print the coefficients and intercept for linear SVC\n",
    "print(\"Coefficients: \" + str(lsvcModel.coefficients))\n",
    "print(\"Intercept: \" + str(lsvcModel.intercept))"
   ],
   "metadata": {
    "collapsed": false
   }
  },
  {
   "cell_type": "code",
   "execution_count": null,
   "outputs": [],
   "source": [
    "from pyspark.ml.classification import NaiveBayes\n",
    "from pyspark.ml.evaluation import MulticlassClassificationEvaluator\n",
    "\n",
    "# Load training data\n",
    "data = spark.read.format(\"libsvm\") \\\n",
    "    .load(\"data/mllib/sample_libsvm_data.txt\")\n",
    "\n",
    "# Split the data into train and test\n",
    "splits = data.randomSplit([0.6, 0.4], 1234)\n",
    "train = splits[0]\n",
    "test = splits[1]\n",
    "\n",
    "# create the trainer and set its parameters\n",
    "nb = NaiveBayes(smoothing=1.0, modelType=\"multinomial\")\n",
    "\n",
    "# train the model\n",
    "model = nb.fit(train)\n",
    "\n",
    "# select example rows to display.\n",
    "predictions = model.transform(test)\n",
    "predictions.show()\n",
    "\n",
    "# compute accuracy on the test set\n",
    "evaluator = MulticlassClassificationEvaluator(labelCol=\"label\", predictionCol=\"prediction\",\n",
    "                                              metricName=\"accuracy\")\n",
    "accuracy = evaluator.evaluate(predictions)\n",
    "print(\"Test set accuracy = \" + str(accuracy))"
   ],
   "metadata": {
    "collapsed": false
   }
  },
  {
   "cell_type": "code",
   "execution_count": null,
   "outputs": [],
   "source": [
    "from pyspark.ml import Pipeline\n",
    "from pyspark.ml.classification import FMClassifier\n",
    "from pyspark.ml.feature import MinMaxScaler, StringIndexer\n",
    "from pyspark.ml.evaluation import MulticlassClassificationEvaluator\n",
    "\n",
    "# Load and parse the data file, converting it to a DataFrame.\n",
    "data = spark.read.format(\"libsvm\").load(\"data/mllib/sample_libsvm_data.txt\")\n",
    "\n",
    "# Index labels, adding metadata to the label column.\n",
    "# Fit on whole dataset to include all labels in index.\n",
    "labelIndexer = StringIndexer(inputCol=\"label\", outputCol=\"indexedLabel\").fit(data)\n",
    "# Scale features.\n",
    "featureScaler = MinMaxScaler(inputCol=\"features\", outputCol=\"scaledFeatures\").fit(data)\n",
    "\n",
    "# Split the data into training and test sets (30% held out for testing)\n",
    "(trainingData, testData) = data.randomSplit([0.7, 0.3])\n",
    "\n",
    "# Train a FM model.\n",
    "fm = FMClassifier(labelCol=\"indexedLabel\", featuresCol=\"scaledFeatures\", stepSize=0.001)\n",
    "\n",
    "# Create a Pipeline.\n",
    "pipeline = Pipeline(stages=[labelIndexer, featureScaler, fm])\n",
    "\n",
    "# Train model.\n",
    "model = pipeline.fit(trainingData)\n",
    "\n",
    "# Make predictions.\n",
    "predictions = model.transform(testData)\n",
    "\n",
    "# Select example rows to display.\n",
    "predictions.select(\"prediction\", \"indexedLabel\", \"features\").show(5)\n",
    "\n",
    "# Select (prediction, true label) and compute test accuracy\n",
    "evaluator = MulticlassClassificationEvaluator(\n",
    "    labelCol=\"indexedLabel\", predictionCol=\"prediction\", metricName=\"accuracy\")\n",
    "accuracy = evaluator.evaluate(predictions)\n",
    "print(\"Test set accuracy = %g\" % accuracy)\n",
    "\n",
    "fmModel = model.stages[2]\n",
    "print(\"Factors: \" + str(fmModel.factors))  # type: ignore\n",
    "print(\"Linear: \" + str(fmModel.linear))  # type: ignore\n",
    "print(\"Intercept: \" + str(fmModel.intercept))  # type: ignore"
   ],
   "metadata": {
    "collapsed": false
   }
  },
  {
   "cell_type": "code",
   "execution_count": null,
   "outputs": [],
   "source": [
    "from pyspark.ml.classification import LogisticRegression\n",
    "\n",
    "# Load training data\n",
    "training = spark.read.format(\"libsvm\").load(\"data/mllib/sample_libsvm_data.txt\")\n",
    "\n",
    "lr = LogisticRegression(maxIter=10, regParam=0.3, elasticNetParam=0.8)\n",
    "\n",
    "# Fit the model\n",
    "lrModel = lr.fit(training)\n",
    "\n",
    "# Print the coefficients and intercept for logistic regression\n",
    "print(\"Coefficients: \" + str(lrModel.coefficients))\n",
    "print(\"Intercept: \" + str(lrModel.intercept))\n",
    "\n",
    "# We can also use the multinomial family for binary classification\n",
    "mlr = LogisticRegression(maxIter=10, regParam=0.3, elasticNetParam=0.8, family=\"multinomial\")\n",
    "\n",
    "# Fit the model\n",
    "mlrModel = mlr.fit(training)\n",
    "\n",
    "# Print the coefficients and intercepts for logistic regression with multinomial family\n",
    "print(\"Multinomial coefficients: \" + str(mlrModel.coefficientMatrix))\n",
    "print(\"Multinomial intercepts: \" + str(mlrModel.interceptVector))"
   ],
   "metadata": {
    "collapsed": false
   }
  }
 ],
 "metadata": {
  "kernelspec": {
   "display_name": "Poetry",
   "language": "python",
   "name": "poetry-kernel"
  },
  "language_info": {
   "codemirror_mode": {
    "name": "ipython",
    "version": 3
   },
   "file_extension": ".py",
   "mimetype": "text/x-python",
   "name": "python",
   "nbconvert_exporter": "python",
   "pygments_lexer": "ipython3",
   "version": "3.10.6"
  }
 },
 "nbformat": 4,
 "nbformat_minor": 1
}
